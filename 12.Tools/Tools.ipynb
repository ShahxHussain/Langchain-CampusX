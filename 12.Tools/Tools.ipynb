{
  "cells": [
    {
      "cell_type": "code",
      "execution_count": 1,
      "metadata": {
        "colab": {
          "base_uri": "https://localhost:8080/"
        },
        "id": "rJdEXvveKlw_",
        "outputId": "7b515267-11f9-49cf-b5f7-5eab643f5cb8"
      },
      "outputs": [
        {
          "name": "stdout",
          "output_type": "stream",
          "text": [
            "Requirement already satisfied: langchain in e:\\learning & acheivements\\langchain-campusx\\langchain\\lib\\site-packages (0.3.27)\n",
            "Requirement already satisfied: langchain-core in e:\\learning & acheivements\\langchain-campusx\\langchain\\lib\\site-packages (0.3.74)\n",
            "Requirement already satisfied: langchain-community in e:\\learning & acheivements\\langchain-campusx\\langchain\\lib\\site-packages (0.3.27)\n",
            "Requirement already satisfied: pydantic in e:\\learning & acheivements\\langchain-campusx\\langchain\\lib\\site-packages (2.11.7)\n",
            "Collecting duckduckgo-search\n",
            "  Downloading duckduckgo_search-8.1.1-py3-none-any.whl.metadata (16 kB)\n",
            "Collecting langchain_experimental\n",
            "  Downloading langchain_experimental-0.3.4-py3-none-any.whl.metadata (1.7 kB)\n",
            "Requirement already satisfied: langchain-text-splitters<1.0.0,>=0.3.9 in e:\\learning & acheivements\\langchain-campusx\\langchain\\lib\\site-packages (from langchain) (0.3.9)\n",
            "Requirement already satisfied: langsmith>=0.1.17 in e:\\learning & acheivements\\langchain-campusx\\langchain\\lib\\site-packages (from langchain) (0.4.10)\n",
            "Requirement already satisfied: SQLAlchemy<3,>=1.4 in e:\\learning & acheivements\\langchain-campusx\\langchain\\lib\\site-packages (from langchain) (2.0.43)\n",
            "Requirement already satisfied: requests<3,>=2 in e:\\learning & acheivements\\langchain-campusx\\langchain\\lib\\site-packages (from langchain) (2.32.4)\n",
            "Requirement already satisfied: PyYAML>=5.3 in e:\\learning & acheivements\\langchain-campusx\\langchain\\lib\\site-packages (from langchain) (6.0.2)\n",
            "Requirement already satisfied: async-timeout<5.0.0,>=4.0.0 in e:\\learning & acheivements\\langchain-campusx\\langchain\\lib\\site-packages (from langchain) (4.0.3)\n",
            "Requirement already satisfied: tenacity!=8.4.0,<10.0.0,>=8.1.0 in e:\\learning & acheivements\\langchain-campusx\\langchain\\lib\\site-packages (from langchain-core) (9.1.2)\n",
            "Requirement already satisfied: jsonpatch<2.0,>=1.33 in e:\\learning & acheivements\\langchain-campusx\\langchain\\lib\\site-packages (from langchain-core) (1.33)\n",
            "Requirement already satisfied: typing-extensions>=4.7 in e:\\learning & acheivements\\langchain-campusx\\langchain\\lib\\site-packages (from langchain-core) (4.14.1)\n",
            "Requirement already satisfied: packaging>=23.2 in e:\\learning & acheivements\\langchain-campusx\\langchain\\lib\\site-packages (from langchain-core) (25.0)\n",
            "Requirement already satisfied: annotated-types>=0.6.0 in e:\\learning & acheivements\\langchain-campusx\\langchain\\lib\\site-packages (from pydantic) (0.7.0)\n",
            "Requirement already satisfied: pydantic-core==2.33.2 in e:\\learning & acheivements\\langchain-campusx\\langchain\\lib\\site-packages (from pydantic) (2.33.2)\n",
            "Requirement already satisfied: typing-inspection>=0.4.0 in e:\\learning & acheivements\\langchain-campusx\\langchain\\lib\\site-packages (from pydantic) (0.4.1)\n",
            "Requirement already satisfied: jsonpointer>=1.9 in e:\\learning & acheivements\\langchain-campusx\\langchain\\lib\\site-packages (from jsonpatch<2.0,>=1.33->langchain-core) (3.0.0)\n",
            "Requirement already satisfied: charset_normalizer<4,>=2 in e:\\learning & acheivements\\langchain-campusx\\langchain\\lib\\site-packages (from requests<3,>=2->langchain) (3.4.2)\n",
            "Requirement already satisfied: idna<4,>=2.5 in e:\\learning & acheivements\\langchain-campusx\\langchain\\lib\\site-packages (from requests<3,>=2->langchain) (3.10)\n",
            "Requirement already satisfied: urllib3<3,>=1.21.1 in e:\\learning & acheivements\\langchain-campusx\\langchain\\lib\\site-packages (from requests<3,>=2->langchain) (2.5.0)\n",
            "Requirement already satisfied: certifi>=2017.4.17 in e:\\learning & acheivements\\langchain-campusx\\langchain\\lib\\site-packages (from requests<3,>=2->langchain) (2025.7.14)\n",
            "Requirement already satisfied: greenlet>=1 in e:\\learning & acheivements\\langchain-campusx\\langchain\\lib\\site-packages (from SQLAlchemy<3,>=1.4->langchain) (3.2.4)\n",
            "Requirement already satisfied: aiohttp<4.0.0,>=3.8.3 in e:\\learning & acheivements\\langchain-campusx\\langchain\\lib\\site-packages (from langchain-community) (3.12.15)\n",
            "Requirement already satisfied: dataclasses-json<0.7,>=0.5.7 in e:\\learning & acheivements\\langchain-campusx\\langchain\\lib\\site-packages (from langchain-community) (0.6.7)\n",
            "Requirement already satisfied: pydantic-settings<3.0.0,>=2.4.0 in e:\\learning & acheivements\\langchain-campusx\\langchain\\lib\\site-packages (from langchain-community) (2.10.1)\n",
            "Requirement already satisfied: httpx-sse<1.0.0,>=0.4.0 in e:\\learning & acheivements\\langchain-campusx\\langchain\\lib\\site-packages (from langchain-community) (0.4.1)\n",
            "Requirement already satisfied: numpy>=1.26.2 in e:\\learning & acheivements\\langchain-campusx\\langchain\\lib\\site-packages (from langchain-community) (2.2.6)\n",
            "Requirement already satisfied: aiohappyeyeballs>=2.5.0 in e:\\learning & acheivements\\langchain-campusx\\langchain\\lib\\site-packages (from aiohttp<4.0.0,>=3.8.3->langchain-community) (2.6.1)\n",
            "Requirement already satisfied: aiosignal>=1.4.0 in e:\\learning & acheivements\\langchain-campusx\\langchain\\lib\\site-packages (from aiohttp<4.0.0,>=3.8.3->langchain-community) (1.4.0)\n",
            "Requirement already satisfied: attrs>=17.3.0 in e:\\learning & acheivements\\langchain-campusx\\langchain\\lib\\site-packages (from aiohttp<4.0.0,>=3.8.3->langchain-community) (25.3.0)\n",
            "Requirement already satisfied: frozenlist>=1.1.1 in e:\\learning & acheivements\\langchain-campusx\\langchain\\lib\\site-packages (from aiohttp<4.0.0,>=3.8.3->langchain-community) (1.7.0)\n",
            "Requirement already satisfied: multidict<7.0,>=4.5 in e:\\learning & acheivements\\langchain-campusx\\langchain\\lib\\site-packages (from aiohttp<4.0.0,>=3.8.3->langchain-community) (6.6.4)\n",
            "Requirement already satisfied: propcache>=0.2.0 in e:\\learning & acheivements\\langchain-campusx\\langchain\\lib\\site-packages (from aiohttp<4.0.0,>=3.8.3->langchain-community) (0.3.2)\n",
            "Requirement already satisfied: yarl<2.0,>=1.17.0 in e:\\learning & acheivements\\langchain-campusx\\langchain\\lib\\site-packages (from aiohttp<4.0.0,>=3.8.3->langchain-community) (1.20.1)\n",
            "Requirement already satisfied: marshmallow<4.0.0,>=3.18.0 in e:\\learning & acheivements\\langchain-campusx\\langchain\\lib\\site-packages (from dataclasses-json<0.7,>=0.5.7->langchain-community) (3.26.1)\n",
            "Requirement already satisfied: typing-inspect<1,>=0.4.0 in e:\\learning & acheivements\\langchain-campusx\\langchain\\lib\\site-packages (from dataclasses-json<0.7,>=0.5.7->langchain-community) (0.9.0)\n",
            "Requirement already satisfied: python-dotenv>=0.21.0 in e:\\learning & acheivements\\langchain-campusx\\langchain\\lib\\site-packages (from pydantic-settings<3.0.0,>=2.4.0->langchain-community) (1.1.1)\n",
            "Requirement already satisfied: mypy-extensions>=0.3.0 in e:\\learning & acheivements\\langchain-campusx\\langchain\\lib\\site-packages (from typing-inspect<1,>=0.4.0->dataclasses-json<0.7,>=0.5.7->langchain-community) (1.1.0)\n",
            "Requirement already satisfied: click>=8.1.8 in e:\\learning & acheivements\\langchain-campusx\\langchain\\lib\\site-packages (from duckduckgo-search) (8.2.1)\n",
            "Collecting primp>=0.15.0 (from duckduckgo-search)\n",
            "  Downloading primp-0.15.0-cp38-abi3-win_amd64.whl.metadata (13 kB)\n",
            "Collecting lxml>=5.3.0 (from duckduckgo-search)\n",
            "  Downloading lxml-6.0.0-cp310-cp310-win_amd64.whl.metadata (6.8 kB)\n",
            "Requirement already satisfied: colorama in e:\\learning & acheivements\\langchain-campusx\\langchain\\lib\\site-packages (from click>=8.1.8->duckduckgo-search) (0.4.6)\n",
            "Requirement already satisfied: httpx<1,>=0.23.0 in e:\\learning & acheivements\\langchain-campusx\\langchain\\lib\\site-packages (from langsmith>=0.1.17->langchain) (0.28.1)\n",
            "Requirement already satisfied: orjson>=3.9.14 in e:\\learning & acheivements\\langchain-campusx\\langchain\\lib\\site-packages (from langsmith>=0.1.17->langchain) (3.11.1)\n",
            "Requirement already satisfied: requests-toolbelt>=1.0.0 in e:\\learning & acheivements\\langchain-campusx\\langchain\\lib\\site-packages (from langsmith>=0.1.17->langchain) (1.0.0)\n",
            "Requirement already satisfied: zstandard>=0.23.0 in e:\\learning & acheivements\\langchain-campusx\\langchain\\lib\\site-packages (from langsmith>=0.1.17->langchain) (0.23.0)\n",
            "Requirement already satisfied: anyio in e:\\learning & acheivements\\langchain-campusx\\langchain\\lib\\site-packages (from httpx<1,>=0.23.0->langsmith>=0.1.17->langchain) (4.9.0)\n",
            "Requirement already satisfied: httpcore==1.* in e:\\learning & acheivements\\langchain-campusx\\langchain\\lib\\site-packages (from httpx<1,>=0.23.0->langsmith>=0.1.17->langchain) (1.0.9)\n",
            "Requirement already satisfied: h11>=0.16 in e:\\learning & acheivements\\langchain-campusx\\langchain\\lib\\site-packages (from httpcore==1.*->httpx<1,>=0.23.0->langsmith>=0.1.17->langchain) (0.16.0)\n",
            "Requirement already satisfied: exceptiongroup>=1.0.2 in e:\\learning & acheivements\\langchain-campusx\\langchain\\lib\\site-packages (from anyio->httpx<1,>=0.23.0->langsmith>=0.1.17->langchain) (1.3.0)\n",
            "Requirement already satisfied: sniffio>=1.1 in e:\\learning & acheivements\\langchain-campusx\\langchain\\lib\\site-packages (from anyio->httpx<1,>=0.23.0->langsmith>=0.1.17->langchain) (1.3.1)\n",
            "Downloading duckduckgo_search-8.1.1-py3-none-any.whl (18 kB)\n",
            "Downloading langchain_experimental-0.3.4-py3-none-any.whl (209 kB)\n",
            "Downloading lxml-6.0.0-cp310-cp310-win_amd64.whl (4.0 MB)\n",
            "   ---------------------------------------- 0.0/4.0 MB ? eta -:--:--\n",
            "   ---------------------------------------- 0.0/4.0 MB ? eta -:--:--\n",
            "   -- ------------------------------------- 0.3/4.0 MB ? eta -:--:--\n",
            "   -- ------------------------------------- 0.3/4.0 MB ? eta -:--:--\n",
            "   ----- ---------------------------------- 0.5/4.0 MB 929.6 kB/s eta 0:00:04\n",
            "   ------- -------------------------------- 0.8/4.0 MB 931.2 kB/s eta 0:00:04\n",
            "   ---------- ----------------------------- 1.0/4.0 MB 967.3 kB/s eta 0:00:04\n",
            "   ------------- -------------------------- 1.3/4.0 MB 1.0 MB/s eta 0:00:03\n",
            "   --------------- ------------------------ 1.6/4.0 MB 1.0 MB/s eta 0:00:03\n",
            "   ------------------ --------------------- 1.8/4.0 MB 1.1 MB/s eta 0:00:02\n",
            "   --------------------- ------------------ 2.1/4.0 MB 1.1 MB/s eta 0:00:02\n",
            "   ----------------------- ---------------- 2.4/4.0 MB 1.1 MB/s eta 0:00:02\n",
            "   -------------------------- ------------- 2.6/4.0 MB 1.1 MB/s eta 0:00:02\n",
            "   ------------------------------- -------- 3.1/4.0 MB 1.2 MB/s eta 0:00:01\n",
            "   ---------------------------------- ----- 3.4/4.0 MB 1.2 MB/s eta 0:00:01\n",
            "   ------------------------------------ --- 3.7/4.0 MB 1.3 MB/s eta 0:00:01\n",
            "   ---------------------------------------- 4.0/4.0 MB 1.3 MB/s  0:00:03\n",
            "Downloading primp-0.15.0-cp38-abi3-win_amd64.whl (3.1 MB)\n",
            "   ---------------------------------------- 0.0/3.1 MB ? eta -:--:--\n",
            "   --- ------------------------------------ 0.3/3.1 MB ? eta -:--:--\n",
            "   --------- ------------------------------ 0.8/3.1 MB 1.7 MB/s eta 0:00:02\n",
            "   ------------- -------------------------- 1.0/3.1 MB 1.9 MB/s eta 0:00:02\n",
            "   ------------------- -------------------- 1.6/3.1 MB 2.0 MB/s eta 0:00:01\n",
            "   -------------------------- ------------- 2.1/3.1 MB 2.1 MB/s eta 0:00:01\n",
            "   --------------------------------- ------ 2.6/3.1 MB 2.2 MB/s eta 0:00:01\n",
            "   ---------------------------------------- 3.1/3.1 MB 2.1 MB/s  0:00:01\n",
            "Installing collected packages: primp, lxml, duckduckgo-search, langchain_experimental\n",
            "\n",
            "   ---------------------------------------- 0/4 [primp]\n",
            "   ---------- ----------------------------- 1/4 [lxml]\n",
            "   ---------- ----------------------------- 1/4 [lxml]\n",
            "   ---------- ----------------------------- 1/4 [lxml]\n",
            "   ---------- ----------------------------- 1/4 [lxml]\n",
            "   ---------- ----------------------------- 1/4 [lxml]\n",
            "   ---------- ----------------------------- 1/4 [lxml]\n",
            "   ---------- ----------------------------- 1/4 [lxml]\n",
            "   ---------- ----------------------------- 1/4 [lxml]\n",
            "   ---------- ----------------------------- 1/4 [lxml]\n",
            "   -------------------- ------------------- 2/4 [duckduckgo-search]\n",
            "   -------------------- ------------------- 2/4 [duckduckgo-search]\n",
            "   -------------------- ------------------- 2/4 [duckduckgo-search]\n",
            "   ------------------------------ --------- 3/4 [langchain_experimental]\n",
            "   ------------------------------ --------- 3/4 [langchain_experimental]\n",
            "   ------------------------------ --------- 3/4 [langchain_experimental]\n",
            "   ------------------------------ --------- 3/4 [langchain_experimental]\n",
            "   ------------------------------ --------- 3/4 [langchain_experimental]\n",
            "   ------------------------------ --------- 3/4 [langchain_experimental]\n",
            "   ------------------------------ --------- 3/4 [langchain_experimental]\n",
            "   ------------------------------ --------- 3/4 [langchain_experimental]\n",
            "   ------------------------------ --------- 3/4 [langchain_experimental]\n",
            "   ------------------------------ --------- 3/4 [langchain_experimental]\n",
            "   ------------------------------ --------- 3/4 [langchain_experimental]\n",
            "   ------------------------------ --------- 3/4 [langchain_experimental]\n",
            "   ------------------------------ --------- 3/4 [langchain_experimental]\n",
            "   ------------------------------ --------- 3/4 [langchain_experimental]\n",
            "   ------------------------------ --------- 3/4 [langchain_experimental]\n",
            "   ------------------------------ --------- 3/4 [langchain_experimental]\n",
            "   ------------------------------ --------- 3/4 [langchain_experimental]\n",
            "   ------------------------------ --------- 3/4 [langchain_experimental]\n",
            "   ------------------------------ --------- 3/4 [langchain_experimental]\n",
            "   ------------------------------ --------- 3/4 [langchain_experimental]\n",
            "   ------------------------------ --------- 3/4 [langchain_experimental]\n",
            "   ------------------------------ --------- 3/4 [langchain_experimental]\n",
            "   ------------------------------ --------- 3/4 [langchain_experimental]\n",
            "   ------------------------------ --------- 3/4 [langchain_experimental]\n",
            "   ------------------------------ --------- 3/4 [langchain_experimental]\n",
            "   ------------------------------ --------- 3/4 [langchain_experimental]\n",
            "   ------------------------------ --------- 3/4 [langchain_experimental]\n",
            "   ---------------------------------------- 4/4 [langchain_experimental]\n",
            "\n",
            "Successfully installed duckduckgo-search-8.1.1 langchain_experimental-0.3.4 lxml-6.0.0 primp-0.15.0\n"
          ]
        }
      ],
      "source": [
        "!pip install langchain langchain-core langchain-community pydantic duckduckgo-search langchain_experimental"
      ]
    },
    {
      "cell_type": "markdown",
      "metadata": {
        "id": "RGVOzFTqLfOf"
      },
      "source": [
        "## Built-in Tool - DuckDuckGo Search"
      ]
    },
    {
      "cell_type": "code",
      "execution_count": 3,
      "metadata": {
        "colab": {
          "base_uri": "https://localhost:8080/"
        },
        "id": "4K8ez4gVLVua",
        "outputId": "4a367267-f791-49b5-bd7d-4e67b6f29337"
      },
      "outputs": [
        {
          "name": "stderr",
          "output_type": "stream",
          "text": [
            "e:\\LEARNING & ACHEIVEMENTS\\Langchain-CampusX\\langchain\\lib\\site-packages\\langchain_community\\utilities\\duckduckgo_search.py:63: RuntimeWarning: This package (`duckduckgo_search`) has been renamed to `ddgs`! Use `pip install ddgs` instead.\n",
            "  with DDGS() as ddgs:\n"
          ]
        },
        {
          "name": "stdout",
          "output_type": "stream",
          "text": [
            "4 days ago · Discover GPT-5’s key upgrades, speed, accuracy, multimodal abilities, and personalization, and see how it differs from true AGI. Plus, 3 practical steps to stay ahead in … Aug 7, 2025 · OpenAI releases GPT-5, which has handy improvements, but a close look reveals it isn't AGI and not even close to artificial superintelligence (ASI). GPT-5 follows that playbook, with stronger code-gen, tighter tool-use, and longer contexts that make chat feel more “aware” of prior steps. In real life, that translates into: Production-ready... Aug 6, 2025 · We’ll consider intriguing questions such as “What is true AI?”, “What does the future of AI hold”, and debate the concepts of AI vs AGI vs ASI, all while exploring the progressive … 6 days ago · To objectively evaluate each large language model, I created highly personalized benchmarks for two different real-world complex reasoning tasks. At a high-level, these tasks …\n"
          ]
        }
      ],
      "source": [
        "from langchain_community.tools import DuckDuckGoSearchRun\n",
        "\n",
        "search_tool = DuckDuckGoSearchRun()\n",
        "\n",
        "results = search_tool.invoke('AGI vs GPT-5 in English')\n",
        "\n",
        "print(results)"
      ]
    },
    {
      "cell_type": "code",
      "execution_count": 4,
      "metadata": {
        "colab": {
          "base_uri": "https://localhost:8080/"
        },
        "id": "Bz5qSI-516qS",
        "outputId": "ba42efec-546a-4047-af88-fb15076f9e87"
      },
      "outputs": [
        {
          "name": "stdout",
          "output_type": "stream",
          "text": [
            "duckduckgo_search\n",
            "A wrapper around DuckDuckGo Search. Useful for when you need to answer questions about current events. Input should be a search query.\n",
            "{'query': {'description': 'search query to look up', 'title': 'Query', 'type': 'string'}}\n"
          ]
        }
      ],
      "source": [
        "print(search_tool.name)\n",
        "print(search_tool.description)\n",
        "print(search_tool.args)"
      ]
    },
    {
      "cell_type": "markdown",
      "metadata": {
        "id": "3Xnm2Mx1L9WQ"
      },
      "source": [
        "## Built-in Tool - Shell Tool"
      ]
    },
    {
      "cell_type": "code",
      "execution_count": 5,
      "metadata": {
        "colab": {
          "base_uri": "https://localhost:8080/"
        },
        "id": "PSKJlwU-Lt9W",
        "outputId": "9172ba8c-63c3-4296-b3e5-a37b1e810338"
      },
      "outputs": [
        {
          "name": "stdout",
          "output_type": "stream",
          "text": [
            "Executing command:\n",
            " whoami\n",
            "shahxhussain\\shahh\n",
            "\n"
          ]
        },
        {
          "name": "stderr",
          "output_type": "stream",
          "text": [
            "e:\\LEARNING & ACHEIVEMENTS\\Langchain-CampusX\\langchain\\lib\\site-packages\\langchain_community\\tools\\shell\\tool.py:33: UserWarning: The shell tool has no safeguards by default. Use at your own risk.\n",
            "  warnings.warn(\n"
          ]
        }
      ],
      "source": [
        "from langchain_community.tools import ShellTool\n",
        "\n",
        "shell_tool = ShellTool()\n",
        "\n",
        "results = shell_tool.invoke('whoami')\n",
        "\n",
        "print(results)"
      ]
    },
    {
      "cell_type": "markdown",
      "metadata": {
        "id": "HkGiksnFOJ3F"
      },
      "source": [
        "## Custom Tools"
      ]
    },
    {
      "cell_type": "code",
      "execution_count": 6,
      "metadata": {
        "id": "BZ1jNSsrMJZP"
      },
      "outputs": [],
      "source": [
        "from langchain_core.tools import tool"
      ]
    },
    {
      "cell_type": "code",
      "execution_count": 7,
      "metadata": {
        "id": "kqzQjm0inH1B"
      },
      "outputs": [],
      "source": [
        "# Step 1 - create a function\n",
        "\n",
        "def multiply(a, b):\n",
        "    \"\"\"Multiply two numbers\"\"\"\n",
        "    return a*b"
      ]
    },
    {
      "cell_type": "code",
      "execution_count": 8,
      "metadata": {
        "id": "cUNUMvyVnIXk"
      },
      "outputs": [],
      "source": [
        "# Step 2 - add type hints\n",
        "\n",
        "def multiply(a: int, b:int) -> int:\n",
        "    \"\"\"Multiply two numbers\"\"\"\n",
        "    return a*b"
      ]
    },
    {
      "cell_type": "code",
      "execution_count": 9,
      "metadata": {
        "id": "v_OQCXPDOOO5"
      },
      "outputs": [],
      "source": [
        "# Step 3 - add tool decorator\n",
        "\n",
        "@tool\n",
        "def multiply(a: int, b:int) -> int:\n",
        "    \"\"\"Multiply two numbers\"\"\"\n",
        "    return a*b"
      ]
    },
    {
      "cell_type": "code",
      "execution_count": 11,
      "metadata": {
        "id": "Hyl7U92mOP-4"
      },
      "outputs": [],
      "source": [
        "result = multiply.invoke({\"a\":10, \"b\":10})"
      ]
    },
    {
      "cell_type": "code",
      "execution_count": 12,
      "metadata": {
        "colab": {
          "base_uri": "https://localhost:8080/"
        },
        "id": "zgb9DJOrOSqG",
        "outputId": "48929af0-6f83-41f3-d107-c90b14af6166"
      },
      "outputs": [
        {
          "name": "stdout",
          "output_type": "stream",
          "text": [
            "100\n"
          ]
        }
      ],
      "source": [
        "print(result)"
      ]
    },
    {
      "cell_type": "code",
      "execution_count": 13,
      "metadata": {
        "colab": {
          "base_uri": "https://localhost:8080/"
        },
        "id": "fRSajRz6OUWe",
        "outputId": "accb9458-410b-4298-dc34-1c3ddf42aecb"
      },
      "outputs": [
        {
          "name": "stdout",
          "output_type": "stream",
          "text": [
            "multiply\n",
            "Multiply two numbers\n",
            "{'a': {'title': 'A', 'type': 'integer'}, 'b': {'title': 'B', 'type': 'integer'}}\n"
          ]
        }
      ],
      "source": [
        "print(multiply.name)\n",
        "print(multiply.description)\n",
        "print(multiply.args)"
      ]
    },
    {
      "cell_type": "code",
      "execution_count": 14,
      "metadata": {
        "colab": {
          "base_uri": "https://localhost:8080/"
        },
        "id": "JyFLVLVSOV4Z",
        "outputId": "21e9bf68-58d4-4891-cb04-75c7001f56e9"
      },
      "outputs": [
        {
          "name": "stdout",
          "output_type": "stream",
          "text": [
            "{'description': 'Multiply two numbers', 'properties': {'a': {'title': 'A', 'type': 'integer'}, 'b': {'title': 'B', 'type': 'integer'}}, 'required': ['a', 'b'], 'title': 'multiply', 'type': 'object'}\n"
          ]
        }
      ],
      "source": [
        "print(multiply.args_schema.model_json_schema())"
      ]
    },
    {
      "cell_type": "markdown",
      "metadata": {
        "id": "Hnkkf7XbOqGC"
      },
      "source": [
        "## Method 2 - Using StructuredTool"
      ]
    },
    {
      "cell_type": "code",
      "execution_count": 15,
      "metadata": {
        "id": "le0QcJHSOZtx"
      },
      "outputs": [],
      "source": [
        "from langchain.tools import StructuredTool\n",
        "from pydantic import BaseModel, Field"
      ]
    },
    {
      "cell_type": "code",
      "execution_count": 19,
      "metadata": {
        "id": "XhQhnCF9OuCx"
      },
      "outputs": [
        {
          "name": "stderr",
          "output_type": "stream",
          "text": [
            "e:\\LEARNING & ACHEIVEMENTS\\Langchain-CampusX\\langchain\\lib\\site-packages\\pydantic\\fields.py:1093: PydanticDeprecatedSince20: Using extra keyword arguments on `Field` is deprecated and will be removed. Use `json_schema_extra` instead. (Extra keys: 'required'). Deprecated in Pydantic V2.0 to be removed in V3.0. See Pydantic V2 Migration Guide at https://errors.pydantic.dev/2.11/migration/\n",
            "  warn(\n",
            "e:\\LEARNING & ACHEIVEMENTS\\Langchain-CampusX\\langchain\\lib\\site-packages\\pydantic\\fields.py:1093: PydanticDeprecatedSince20: Using extra keyword arguments on `Field` is deprecated and will be removed. Use `json_schema_extra` instead. (Extra keys: 'required'). Deprecated in Pydantic V2.0 to be removed in V3.0. See Pydantic V2 Migration Guide at https://errors.pydantic.dev/2.11/migration/\n",
            "  warn(\n"
          ]
        }
      ],
      "source": [
        "class MultiplyInput(BaseModel):\n",
        "    a: int = Field(required=True, description=\"The first number to add\")\n",
        "    b: int = Field(required=True, description=\"The second number to add\")"
      ]
    },
    {
      "cell_type": "code",
      "execution_count": 16,
      "metadata": {
        "id": "V0emRsp8Ovle"
      },
      "outputs": [],
      "source": [
        "def multiply_func(a: int, b: int) -> int:\n",
        "    return a * b"
      ]
    },
    {
      "cell_type": "code",
      "execution_count": 20,
      "metadata": {
        "id": "Ym5nmQuaOxJi"
      },
      "outputs": [],
      "source": [
        "multiply_tool = StructuredTool.from_function(\n",
        "    func=multiply_func,\n",
        "    name=\"multiply\",\n",
        "    description=\"Multiply two numbers\",\n",
        "    args_schema=MultiplyInput\n",
        ")"
      ]
    },
    {
      "cell_type": "code",
      "execution_count": 22,
      "metadata": {
        "colab": {
          "base_uri": "https://localhost:8080/"
        },
        "id": "EUWsRs6OOy7W",
        "outputId": "c41975ce-e0e4-49a5-f888-ddbb1958b2b7"
      },
      "outputs": [
        {
          "name": "stdout",
          "output_type": "stream",
          "text": [
            "45\n",
            "multiply\n",
            "Multiply two numbers\n",
            "{'a': {'description': 'The first number to add', 'required': True, 'title': 'A', 'type': 'integer'}, 'b': {'description': 'The second number to add', 'required': True, 'title': 'B', 'type': 'integer'}}\n"
          ]
        }
      ],
      "source": [
        "result = multiply_tool.invoke({'a':5, 'b':9})\n",
        "\n",
        "print(result)\n",
        "print(multiply_tool.name)\n",
        "print(multiply_tool.description)\n",
        "print(multiply_tool.args)"
      ]
    },
    {
      "cell_type": "markdown",
      "metadata": {
        "id": "4m1fr6RpO8vi"
      },
      "source": [
        "## Method 3 - Using BaseTool Class"
      ]
    },
    {
      "cell_type": "code",
      "execution_count": 23,
      "metadata": {
        "id": "GiXpMN0sOzsa"
      },
      "outputs": [],
      "source": [
        "from langchain.tools import BaseTool\n",
        "from typing import Type"
      ]
    },
    {
      "cell_type": "code",
      "execution_count": 24,
      "metadata": {
        "id": "yl0m79ys625L"
      },
      "outputs": [
        {
          "name": "stderr",
          "output_type": "stream",
          "text": [
            "e:\\LEARNING & ACHEIVEMENTS\\Langchain-CampusX\\langchain\\lib\\site-packages\\pydantic\\fields.py:1093: PydanticDeprecatedSince20: Using extra keyword arguments on `Field` is deprecated and will be removed. Use `json_schema_extra` instead. (Extra keys: 'required'). Deprecated in Pydantic V2.0 to be removed in V3.0. See Pydantic V2 Migration Guide at https://errors.pydantic.dev/2.11/migration/\n",
            "  warn(\n",
            "e:\\LEARNING & ACHEIVEMENTS\\Langchain-CampusX\\langchain\\lib\\site-packages\\pydantic\\fields.py:1093: PydanticDeprecatedSince20: Using extra keyword arguments on `Field` is deprecated and will be removed. Use `json_schema_extra` instead. (Extra keys: 'required'). Deprecated in Pydantic V2.0 to be removed in V3.0. See Pydantic V2 Migration Guide at https://errors.pydantic.dev/2.11/migration/\n",
            "  warn(\n"
          ]
        }
      ],
      "source": [
        "# arg schema using pydantic\n",
        "\n",
        "class MultiplyInput(BaseModel):\n",
        "    a: int = Field(required=True, description=\"The first number to add\")\n",
        "    b: int = Field(required=True, description=\"The second number to add\")"
      ]
    },
    {
      "cell_type": "code",
      "execution_count": 25,
      "metadata": {
        "id": "S5pvNLWZPEUd"
      },
      "outputs": [],
      "source": [
        "class MultiplyTool(BaseTool):\n",
        "    name: str = \"multiply\"\n",
        "    description: str = \"Multiply two numbers\"\n",
        "\n",
        "    args_schema: Type[BaseModel] = MultiplyInput\n",
        "\n",
        "    def _run(self, a: int, b: int) -> int:\n",
        "        return a * b"
      ]
    },
    {
      "cell_type": "code",
      "execution_count": 26,
      "metadata": {
        "id": "bznB88uQPF4n"
      },
      "outputs": [],
      "source": [
        "multiply_tool = MultiplyTool()"
      ]
    },
    {
      "cell_type": "code",
      "execution_count": 27,
      "metadata": {
        "colab": {
          "base_uri": "https://localhost:8080/"
        },
        "id": "4RzOFApnPb6K",
        "outputId": "0d4ca09a-4ba1-4210-8a27-0afd833b28c8"
      },
      "outputs": [
        {
          "name": "stdout",
          "output_type": "stream",
          "text": [
            "9\n",
            "multiply\n",
            "Multiply two numbers\n",
            "{'a': {'description': 'The first number to add', 'required': True, 'title': 'A', 'type': 'integer'}, 'b': {'description': 'The second number to add', 'required': True, 'title': 'B', 'type': 'integer'}}\n"
          ]
        }
      ],
      "source": [
        "result = multiply_tool.invoke({'a':3, 'b':3})\n",
        "\n",
        "print(result)\n",
        "print(multiply_tool.name)\n",
        "print(multiply_tool.description)\n",
        "\n",
        "print(multiply_tool.args)"
      ]
    },
    {
      "cell_type": "markdown",
      "metadata": {
        "id": "bNuB9bmZQolv"
      },
      "source": [
        "## Toolkit"
      ]
    },
    {
      "cell_type": "code",
      "execution_count": null,
      "metadata": {
        "id": "fFbdDZBiQn9k"
      },
      "outputs": [],
      "source": [
        "from langchain_core.tools import tool\n",
        "\n",
        "# Custom tools\n",
        "@tool\n",
        "def add(a: int, b: int) -> int:\n",
        "    \"\"\"Add two numbers\"\"\"\n",
        "    return a + b\n",
        "\n",
        "@tool\n",
        "def multiply(a: int, b: int) -> int:\n",
        "    \"\"\"Multiply two numbers\"\"\"\n",
        "    return a * b\n"
      ]
    },
    {
      "cell_type": "code",
      "execution_count": null,
      "metadata": {
        "id": "j6tT1z_APgJ1"
      },
      "outputs": [],
      "source": [
        "class MathToolkit:\n",
        "    def get_tools(self):\n",
        "        return [add, multiply]\n"
      ]
    },
    {
      "cell_type": "code",
      "execution_count": null,
      "metadata": {
        "colab": {
          "base_uri": "https://localhost:8080/"
        },
        "id": "fH6n1A0FRcMc",
        "outputId": "088a8605-3577-4ab6-8604-8ac7a70b16d1"
      },
      "outputs": [
        {
          "name": "stdout",
          "output_type": "stream",
          "text": [
            "add => Add two numbers\n",
            "multiply => Multiply two numbers\n"
          ]
        }
      ],
      "source": [
        "toolkit = MathToolkit()\n",
        "tools = toolkit.get_tools()\n",
        "\n",
        "for tool in tools:\n",
        "    print(tool.name, \"=>\", tool.description)\n"
      ]
    },
    {
      "cell_type": "code",
      "execution_count": null,
      "metadata": {
        "id": "SkfYSzVeReij"
      },
      "outputs": [],
      "source": []
    }
  ],
  "metadata": {
    "colab": {
      "provenance": []
    },
    "kernelspec": {
      "display_name": "langchain",
      "language": "python",
      "name": "python3"
    },
    "language_info": {
      "codemirror_mode": {
        "name": "ipython",
        "version": 3
      },
      "file_extension": ".py",
      "mimetype": "text/x-python",
      "name": "python",
      "nbconvert_exporter": "python",
      "pygments_lexer": "ipython3",
      "version": "3.10.11"
    }
  },
  "nbformat": 4,
  "nbformat_minor": 0
}
