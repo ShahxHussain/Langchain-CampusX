{
 "cells": [
  {
   "cell_type": "markdown",
   "id": "dbbf521c",
   "metadata": {},
   "source": [
    "## *We will be using Exchange Rate API*"
   ]
  },
  {
   "cell_type": "code",
   "execution_count": 45,
   "id": "3e6c3f29",
   "metadata": {},
   "outputs": [],
   "source": [
    "from langchain_core.tools import tool, InjectedToolArg\n",
    "import requests\n",
    "from typing import Annotated"
   ]
  },
  {
   "cell_type": "code",
   "execution_count": 47,
   "id": "5abe26dd",
   "metadata": {},
   "outputs": [],
   "source": [
    "# CREATING TOOL\n",
    "\n",
    "@tool\n",
    "def conversion_factor(base_currency: str, target_currency: str):\n",
    "    \"\"\"\n",
    "    This function fetches the currency factors between a given base currecny and target currency\n",
    "    \"\"\"\n",
    "\n",
    "    url = f'https://v6.exchangerate-api.com/v6/78bcba80780d064f72d9dd66/pair/{base_currency}/{target_currency}'\n",
    "    response = requests.get(url)\n",
    "\n",
    "    return response.json()\n",
    "\n",
    "\n",
    "# @tool\n",
    "# def convert(base_currency_value: int, conversion_rate: float) -> float:\n",
    "#     \"\"\"\n",
    "#     Provide Conversion from one currency rate to another\n",
    " \n",
    "#     \"\"\"\n",
    "\n",
    "#     return base_currency_value * conversion_rate\n",
    "\n",
    "\n",
    "@tool\n",
    "def convert(base_currency_value: int, conversion_rate: Annotated[float , InjectedToolArg]) -> float:\n",
    "    \"\"\"\n",
    "    Provide Conversion from one currency rate to another\n",
    " \n",
    "    \"\"\"\n",
    "\n",
    "    return base_currency_value * conversion_rate\n"
   ]
  },
  {
   "cell_type": "code",
   "execution_count": 49,
   "id": "8daf9701",
   "metadata": {},
   "outputs": [
    {
     "name": "stdout",
     "output_type": "stream",
     "text": [
      "{'result': 'success', 'documentation': 'https://www.exchangerate-api.com/docs', 'terms_of_use': 'https://www.exchangerate-api.com/terms', 'time_last_update_unix': 1755820801, 'time_last_update_utc': 'Fri, 22 Aug 2025 00:00:01 +0000', 'time_next_update_unix': 1755907201, 'time_next_update_utc': 'Sat, 23 Aug 2025 00:00:01 +0000', 'base_code': 'USD', 'target_code': 'PKR', 'conversion_rate': 283.535}\n"
     ]
    }
   ],
   "source": [
    "result = conversion_factor.invoke({\n",
    "    \"base_currency\": \"USD\",\n",
    "    \"target_currency\": \"PKR\"   \n",
    "})\n",
    "print(result)"
   ]
  },
  {
   "cell_type": "code",
   "execution_count": 50,
   "id": "03c84d03",
   "metadata": {},
   "outputs": [
    {
     "data": {
      "text/plain": [
       "861.1"
      ]
     },
     "execution_count": 50,
     "metadata": {},
     "output_type": "execute_result"
    }
   ],
   "source": [
    "convert.invoke({'base_currency_value':10, 'conversion_rate': 86.11})"
   ]
  },
  {
   "cell_type": "code",
   "execution_count": 51,
   "id": "08ff838c",
   "metadata": {},
   "outputs": [],
   "source": [
    "# TOOL BINDING\n",
    "\n",
    "from langchain_google_genai import ChatGoogleGenerativeAI\n",
    "\n",
    "llm = ChatGoogleGenerativeAI(\n",
    "    model = 'gemini-2.0-flash'\n",
    ")\n",
    "llm_with_tools = llm.bind_tools([conversion_factor, convert ])"
   ]
  },
  {
   "cell_type": "code",
   "execution_count": 66,
   "id": "efd825e2",
   "metadata": {},
   "outputs": [],
   "source": [
    "from langchain_core.messages import HumanMessage\n",
    "\n",
    "\n",
    "messages = [HumanMessage('What is the conversion factor between USD and PKR, and based on that can you convert 100 USD to PKR')]"
   ]
  },
  {
   "cell_type": "code",
   "execution_count": 74,
   "id": "a7a78e79",
   "metadata": {},
   "outputs": [
    {
     "data": {
      "text/plain": [
       "[HumanMessage(content='What is the conversion factor between USD and PKR, and based on that can you convert 100 USD to PKR', additional_kwargs={}, response_metadata={})]"
      ]
     },
     "execution_count": 74,
     "metadata": {},
     "output_type": "execute_result"
    }
   ],
   "source": [
    "messages"
   ]
  },
  {
   "cell_type": "code",
   "execution_count": 67,
   "id": "d71b087b",
   "metadata": {},
   "outputs": [],
   "source": [
    "ai_message = llm_with_tools.invoke(messages)"
   ]
  },
  {
   "cell_type": "code",
   "execution_count": 68,
   "id": "9144ac39",
   "metadata": {},
   "outputs": [
    {
     "data": {
      "text/plain": [
       "AIMessage(content='', additional_kwargs={'function_call': {'name': 'conversion_factor', 'arguments': '{\"base_currency\": \"USD\", \"target_currency\": \"PKR\"}'}}, response_metadata={'prompt_feedback': {'block_reason': 0, 'safety_ratings': []}, 'finish_reason': 'STOP', 'model_name': 'gemini-2.0-flash', 'safety_ratings': []}, id='run--f9b5e3c3-e4af-4da0-9006-6e0d271595c9-0', tool_calls=[{'name': 'conversion_factor', 'args': {'base_currency': 'USD', 'target_currency': 'PKR'}, 'id': '00606e96-5f15-4981-bcd5-4b674762bb8c', 'type': 'tool_call'}], usage_metadata={'input_tokens': 82, 'output_tokens': 12, 'total_tokens': 94, 'input_token_details': {'cache_read': 0}})"
      ]
     },
     "execution_count": 68,
     "metadata": {},
     "output_type": "execute_result"
    }
   ],
   "source": [
    "ai_message"
   ]
  },
  {
   "cell_type": "code",
   "execution_count": 78,
   "id": "726663d9",
   "metadata": {},
   "outputs": [],
   "source": [
    "messages.append(ai_message)"
   ]
  },
  {
   "cell_type": "code",
   "execution_count": 80,
   "id": "e4d0d2ce",
   "metadata": {},
   "outputs": [
    {
     "data": {
      "text/plain": [
       "[HumanMessage(content='What is the conversion factor between USD and PKR, and based on that can you convert 100 USD to PKR', additional_kwargs={}, response_metadata={}),\n",
       " AIMessage(content='', additional_kwargs={'function_call': {'name': 'conversion_factor', 'arguments': '{\"base_currency\": \"USD\", \"target_currency\": \"PKR\"}'}}, response_metadata={'prompt_feedback': {'block_reason': 0, 'safety_ratings': []}, 'finish_reason': 'STOP', 'model_name': 'gemini-2.0-flash', 'safety_ratings': []}, id='run--f9b5e3c3-e4af-4da0-9006-6e0d271595c9-0', tool_calls=[{'name': 'conversion_factor', 'args': {'base_currency': 'USD', 'target_currency': 'PKR'}, 'id': '00606e96-5f15-4981-bcd5-4b674762bb8c', 'type': 'tool_call'}], usage_metadata={'input_tokens': 82, 'output_tokens': 12, 'total_tokens': 94, 'input_token_details': {'cache_read': 0}}),\n",
       " AIMessage(content='', additional_kwargs={'function_call': {'name': 'conversion_factor', 'arguments': '{\"base_currency\": \"USD\", \"target_currency\": \"PKR\"}'}}, response_metadata={'prompt_feedback': {'block_reason': 0, 'safety_ratings': []}, 'finish_reason': 'STOP', 'model_name': 'gemini-2.0-flash', 'safety_ratings': []}, id='run--f9b5e3c3-e4af-4da0-9006-6e0d271595c9-0', tool_calls=[{'name': 'conversion_factor', 'args': {'base_currency': 'USD', 'target_currency': 'PKR'}, 'id': '00606e96-5f15-4981-bcd5-4b674762bb8c', 'type': 'tool_call'}], usage_metadata={'input_tokens': 82, 'output_tokens': 12, 'total_tokens': 94, 'input_token_details': {'cache_read': 0}}),\n",
       " AIMessage(content='', additional_kwargs={'function_call': {'name': 'conversion_factor', 'arguments': '{\"base_currency\": \"USD\", \"target_currency\": \"PKR\"}'}}, response_metadata={'prompt_feedback': {'block_reason': 0, 'safety_ratings': []}, 'finish_reason': 'STOP', 'model_name': 'gemini-2.0-flash', 'safety_ratings': []}, id='run--f9b5e3c3-e4af-4da0-9006-6e0d271595c9-0', tool_calls=[{'name': 'conversion_factor', 'args': {'base_currency': 'USD', 'target_currency': 'PKR'}, 'id': '00606e96-5f15-4981-bcd5-4b674762bb8c', 'type': 'tool_call'}], usage_metadata={'input_tokens': 82, 'output_tokens': 12, 'total_tokens': 94, 'input_token_details': {'cache_read': 0}})]"
      ]
     },
     "execution_count": 80,
     "metadata": {},
     "output_type": "execute_result"
    }
   ],
   "source": [
    "messages"
   ]
  },
  {
   "cell_type": "code",
   "execution_count": 85,
   "id": "7ca795f8",
   "metadata": {},
   "outputs": [
    {
     "data": {
      "text/plain": [
       "[{'name': 'conversion_factor',\n",
       "  'args': {'base_currency': 'USD', 'target_currency': 'PKR'},\n",
       "  'id': '00606e96-5f15-4981-bcd5-4b674762bb8c',\n",
       "  'type': 'tool_call'}]"
      ]
     },
     "execution_count": 85,
     "metadata": {},
     "output_type": "execute_result"
    }
   ],
   "source": [
    "ai_message.tool_calls"
   ]
  },
  {
   "cell_type": "code",
   "execution_count": 84,
   "id": "563e36a1",
   "metadata": {},
   "outputs": [
    {
     "ename": "AttributeError",
     "evalue": "'dict' object has no attribute 'content'",
     "output_type": "error",
     "traceback": [
      "\u001b[1;31m---------------------------------------------------------------------------\u001b[0m",
      "\u001b[1;31mAttributeError\u001b[0m                            Traceback (most recent call last)",
      "Cell \u001b[1;32mIn[84], line 10\u001b[0m\n\u001b[0;32m      8\u001b[0m tool_message1 \u001b[38;5;241m=\u001b[39m conversion_factor\u001b[38;5;241m.\u001b[39minvoke(tool_call)\n\u001b[0;32m      9\u001b[0m \u001b[38;5;66;03m# Fetch this message rate\u001b[39;00m\n\u001b[1;32m---> 10\u001b[0m \u001b[38;5;28mprint\u001b[39m(json\u001b[38;5;241m.\u001b[39mload(\u001b[43mtool_call\u001b[49m\u001b[38;5;241;43m.\u001b[39;49m\u001b[43mcontent\u001b[49m)[\u001b[38;5;124m'\u001b[39m\u001b[38;5;124mconversion_rate\u001b[39m\u001b[38;5;124m'\u001b[39m])\n\u001b[0;32m     11\u001b[0m \u001b[38;5;66;03m#append this tool message to message list\u001b[39;00m\n\u001b[0;32m     12\u001b[0m messages\u001b[38;5;241m.\u001b[39mappend(tool_message1) \n",
      "\u001b[1;31mAttributeError\u001b[0m: 'dict' object has no attribute 'content'"
     ]
    }
   ],
   "source": [
    "import json\n",
    "\n",
    "for tool_call in ai_message.tool_calls:\n",
    "    # print(tool_call)\n",
    "\n",
    "    # Execute the first tool and get the conversion rate\n",
    "    if tool_call['name'] == 'conversion_factor':\n",
    "        tool_message1 = conversion_factor.invoke(tool_call)\n",
    "        # Fetch this message rate\n",
    "        print(json.load(tool_call.content)['conversion_rate'])\n",
    "        #append this tool message to message list\n",
    "        messages.append(tool_message1) \n",
    "\n",
    "    # Execute the 2nd tool using the conversion rate from tool1\n",
    "    if tool_call['name'] == 'convert':\n",
    "        # Fetch the current arg\n",
    "        tool_call['args']['conversion_rate']\n",
    "        tool_message2 = convert.invoke(tool_call)\n",
    "        messages.append(tool_message2 )\n"
   ]
  },
  {
   "cell_type": "code",
   "execution_count": 83,
   "id": "2a99d6ed",
   "metadata": {},
   "outputs": [
    {
     "data": {
      "text/plain": [
       "[HumanMessage(content='What is the conversion factor between USD and PKR, and based on that can you convert 100 USD to PKR', additional_kwargs={}, response_metadata={}),\n",
       " AIMessage(content='', additional_kwargs={'function_call': {'name': 'conversion_factor', 'arguments': '{\"base_currency\": \"USD\", \"target_currency\": \"PKR\"}'}}, response_metadata={'prompt_feedback': {'block_reason': 0, 'safety_ratings': []}, 'finish_reason': 'STOP', 'model_name': 'gemini-2.0-flash', 'safety_ratings': []}, id='run--f9b5e3c3-e4af-4da0-9006-6e0d271595c9-0', tool_calls=[{'name': 'conversion_factor', 'args': {'base_currency': 'USD', 'target_currency': 'PKR'}, 'id': '00606e96-5f15-4981-bcd5-4b674762bb8c', 'type': 'tool_call'}], usage_metadata={'input_tokens': 82, 'output_tokens': 12, 'total_tokens': 94, 'input_token_details': {'cache_read': 0}}),\n",
       " AIMessage(content='', additional_kwargs={'function_call': {'name': 'conversion_factor', 'arguments': '{\"base_currency\": \"USD\", \"target_currency\": \"PKR\"}'}}, response_metadata={'prompt_feedback': {'block_reason': 0, 'safety_ratings': []}, 'finish_reason': 'STOP', 'model_name': 'gemini-2.0-flash', 'safety_ratings': []}, id='run--f9b5e3c3-e4af-4da0-9006-6e0d271595c9-0', tool_calls=[{'name': 'conversion_factor', 'args': {'base_currency': 'USD', 'target_currency': 'PKR'}, 'id': '00606e96-5f15-4981-bcd5-4b674762bb8c', 'type': 'tool_call'}], usage_metadata={'input_tokens': 82, 'output_tokens': 12, 'total_tokens': 94, 'input_token_details': {'cache_read': 0}}),\n",
       " AIMessage(content='', additional_kwargs={'function_call': {'name': 'conversion_factor', 'arguments': '{\"base_currency\": \"USD\", \"target_currency\": \"PKR\"}'}}, response_metadata={'prompt_feedback': {'block_reason': 0, 'safety_ratings': []}, 'finish_reason': 'STOP', 'model_name': 'gemini-2.0-flash', 'safety_ratings': []}, id='run--f9b5e3c3-e4af-4da0-9006-6e0d271595c9-0', tool_calls=[{'name': 'conversion_factor', 'args': {'base_currency': 'USD', 'target_currency': 'PKR'}, 'id': '00606e96-5f15-4981-bcd5-4b674762bb8c', 'type': 'tool_call'}], usage_metadata={'input_tokens': 82, 'output_tokens': 12, 'total_tokens': 94, 'input_token_details': {'cache_read': 0}})]"
      ]
     },
     "execution_count": 83,
     "metadata": {},
     "output_type": "execute_result"
    }
   ],
   "source": [
    "messages"
   ]
  },
  {
   "cell_type": "markdown",
   "id": "7e0f468a",
   "metadata": {},
   "source": [
    "### `After new update: LangChain won’t automatically run the second tool after the first.`"
   ]
  },
  {
   "cell_type": "code",
   "execution_count": null,
   "id": "5ee30914",
   "metadata": {},
   "outputs": [],
   "source": []
  }
 ],
 "metadata": {
  "kernelspec": {
   "display_name": "langchain",
   "language": "python",
   "name": "python3"
  },
  "language_info": {
   "codemirror_mode": {
    "name": "ipython",
    "version": 3
   },
   "file_extension": ".py",
   "mimetype": "text/x-python",
   "name": "python",
   "nbconvert_exporter": "python",
   "pygments_lexer": "ipython3",
   "version": "3.10.11"
  }
 },
 "nbformat": 4,
 "nbformat_minor": 5
}
